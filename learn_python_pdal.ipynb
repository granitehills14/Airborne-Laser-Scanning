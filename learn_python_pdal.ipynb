{
 "cells": [
  {
   "cell_type": "code",
   "execution_count": 74,
   "id": "87ed60c7",
   "metadata": {},
   "outputs": [],
   "source": [
    "import os\n",
    "import rasterio\n",
    "import rioxarray\n",
    "import numpy as np\n",
    "import laspy as laspy \n",
    "#laspy is a good point cloud tool\n",
    "import open3d as o3d\n",
    "\n",
    "\n",
    "# Plotting setup\n",
    "import matplotlib.pyplot as plt\n",
    "%config InlineBackend.figure_format='retina'\n",
    "#plt.rcParams.update({'font.size': 16}) # make matplotlib font sizes bigger"
   ]
  },
  {
   "cell_type": "code",
   "execution_count": 90,
   "id": "c5719be2",
   "metadata": {},
   "outputs": [
    {
     "name": "stdout",
     "output_type": "stream",
     "text": [
      "{\r\n",
      "    \"pipeline\": [\r\n",
      "        {\r\n",
      "           \"type\":\"readers.las\"\r\n",
      "        },\r\n",
      "        {\r\n",
      "            \"type\":\"filters.dem\",\r\n",
      "            \"raster\":\"tandem.tif\",\r\n",
      "            \"limits\":\"Z[20:35]\"\r\n",
      "        },\r\n",
      "        {\r\n",
      "            \"type\":\"filters.outlier\",\r\n",
      "            \"method\":\"statistical\",\r\n",
      "            \"mean_k\":12,\r\n",
      "            \"multiplier\":2.2\r\n",
      "        },\r\n",
      "        {\r\n",
      "          \"type\":\"filters.range\",\r\n",
      "          \"limits\":\"classification![7:7]\"\r\n",
      "        },\r\n",
      "        {\r\n",
      "            \"type\":\"filters.smrf\"\r\n",
      "        },\r\n",
      "        {\r\n",
      "            \"type\":\"filters.range\",\r\n",
      "            \"limits\":\"Classification[2:2]\"\r\n",
      "        },\r\n",
      "        {\r\n",
      "           \"type\":\"writers.las\"\r\n",
      "        },\r\n",
      "        {\r\n",
      "            \"type\":\"writers.gdal\",\r\n",
      "            \"resolution\":1.0,\r\n",
      "            \"output_type\":\"idw\"\r\n",
      "        }\r\n",
      "    ]\r\n",
      "}\r\n"
     ]
    }
   ],
   "source": [
    "!cat learn-pdal-python_batch.json"
   ]
  },
  {
   "cell_type": "code",
   "execution_count": 47,
   "id": "1e5a0d43",
   "metadata": {},
   "outputs": [
    {
     "name": "stdout",
     "output_type": "stream",
     "text": [
      "[PosixPath('/Users/rdcrlsro/Documents/lidar_play/Bogus/test/2021-02-24-Bogus - VQ-580 - 210224_213433_VQ-580 - originalpoints.laz'), PosixPath('/Users/rdcrlsro/Documents/lidar_play/Bogus/test/2021-02-24-Bogus - VQ-580 - 210224_213528_VQ-580 - originalpoints.laz')]\n"
     ]
    }
   ],
   "source": [
    "#get a list of files to push to pipeline\n",
    "basepath = ('/Users/rdcrlsro/Documents/lidar_play/Bogus/test/')\n",
    "def get_file_list(directory: str, file_types: str ='*.laz') -> list:\n",
    "    return [f for f in Path(directory).glob(file_types) if f.is_file()]\n",
    "\n",
    "files = get_file_list(basepath)\n",
    "print(files)"
   ]
  },
  {
   "cell_type": "code",
   "execution_count": 91,
   "id": "7de04232",
   "metadata": {},
   "outputs": [],
   "source": [
    "#Here is the crux, I/O of a dir of files.\n",
    "#!pdal pipeline learn-pdal-python.json --verbose 5 \\\n",
    "\n",
    "!ls /Users/rdcrlsro/Documents/lidar_play/Bogus/test/*.laz | \\\n",
    "parallel -I{} pdal pipeline ./learn-pdal-python_batch.json \\\n",
    "--readers.las.filename={} \\\n",
    "--writers.las.filename=/Users/rdcrlsro/Documents/lidar_play/Bogus/test/out/PC/clean{/.}.las \\\n",
    "--writers.gdal.filename=/Users/rdcrlsro/Documents/lidar_play/Bogus/test/out/Raster/clean{/.}.tif \\\n",
    "gdalbuildvrt  /Users/rdcrlsro/Documents/lidar_play/Bogus/test/out/Raster/dtm3.vrt /Users/rdcrlsro/Documents/lidar_play/Bogus/test/out/Raster*.tif"
   ]
  },
  {
   "cell_type": "code",
   "execution_count": 92,
   "id": "f810cdd1",
   "metadata": {},
   "outputs": [
    {
     "name": "stdout",
     "output_type": "stream",
     "text": [
      "0...10...20...30...40...50...60...70...80...90...100 - done.\n"
     ]
    }
   ],
   "source": [
    "#combine the tif output\n",
    "!ls /Users/rdcrlsro/Documents/lidar_play/Bogus/test/out/Raster/*.tif | \\\n",
    "gdalbuildvrt  /Users/rdcrlsro/Documents/lidar_play/Bogus/test/out/Raster/dtm3.vrt /Users/rdcrlsro/Documents/lidar_play/Bogus/test/out/Raster/*.tif"
   ]
  },
  {
   "cell_type": "code",
   "execution_count": 6,
   "id": "c1e4c18b",
   "metadata": {},
   "outputs": [
    {
     "name": "stdout",
     "output_type": "stream",
     "text": [
      "Points from Header: 81526712\n",
      "<LasData(1.2, point fmt: <PointFormat(3, 0 bytes of extra dims)>, 81526712 points, 3 vlrs)>\n",
      "[2 4]\n"
     ]
    },
    {
     "data": {
      "text/plain": [
       "['X',\n",
       " 'Y',\n",
       " 'Z',\n",
       " 'intensity',\n",
       " 'return_number',\n",
       " 'number_of_returns',\n",
       " 'scan_direction_flag',\n",
       " 'edge_of_flight_line',\n",
       " 'classification',\n",
       " 'synthetic',\n",
       " 'key_point',\n",
       " 'withheld',\n",
       " 'scan_angle_rank',\n",
       " 'user_data',\n",
       " 'point_source_id',\n",
       " 'gps_time',\n",
       " 'red',\n",
       " 'green',\n",
       " 'blue']"
      ]
     },
     "execution_count": 6,
     "metadata": {},
     "output_type": "execute_result"
    }
   ],
   "source": [
    "PC= laspy.read('/Users/rdcrlsro/Documents/lidar_play/MessyBogus-clean.las')\n",
    "print('Points from Header:', PC.header.point_count)\n",
    "print(PC)\n",
    "print(np.unique(PC.classification))\n",
    "\n",
    "list(PC.point_format.dimension_names)"
   ]
  },
  {
   "cell_type": "code",
   "execution_count": 7,
   "id": "f1a86113",
   "metadata": {},
   "outputs": [],
   "source": [
    "points = np.vstack((PC.X, PC.Y, PC.Z)).transpose()\n",
    "\n",
    "cloud = o3d.geometry.PointCloud()\n",
    "cloud.points = o3d.utility.Vector3dVector(points)\n",
    "#pcd.colors = o3d.utility.Vector3dVector(colors/65535)\n",
    "#pcd.normals = o3d.utility.Vector3dVector(normals)\n",
    "o3d.visualization.draw_geometries([cloud])\n"
   ]
  },
  {
   "cell_type": "code",
   "execution_count": null,
   "id": "4b242f96",
   "metadata": {},
   "outputs": [],
   "source": []
  }
 ],
 "metadata": {
  "kernelspec": {
   "display_name": "Python 3",
   "language": "python",
   "name": "python3"
  },
  "language_info": {
   "codemirror_mode": {
    "name": "ipython",
    "version": 3
   },
   "file_extension": ".py",
   "mimetype": "text/x-python",
   "name": "python",
   "nbconvert_exporter": "python",
   "pygments_lexer": "ipython3",
   "version": "3.8.3"
  }
 },
 "nbformat": 4,
 "nbformat_minor": 5
}
